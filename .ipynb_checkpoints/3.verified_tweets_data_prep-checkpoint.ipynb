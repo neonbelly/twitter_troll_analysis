{
 "cells": [
  {
   "cell_type": "code",
   "execution_count": 1,
   "metadata": {},
   "outputs": [
    {
     "name": "stderr",
     "output_type": "stream",
     "text": [
      "INFO: {'User-Agent': 'Opera/9.80 (X11; Linux i686; Ubuntu/14.10) Presto/2.12.388 Version/12.16'}\n"
     ]
    }
   ],
   "source": [
    "import pandas as pd\n",
    "import twitterscraper\n",
    "from bs4 import BeautifulSoup\n",
    "import csv\n",
    "import datetime\n",
    "import pickle\n",
    "import matplotlib.pyplot as plt\n",
    "import seaborn as sns\n",
    "import re"
   ]
  },
  {
   "cell_type": "markdown",
   "metadata": {},
   "source": [
    "# EDA"
   ]
  },
  {
   "cell_type": "code",
   "execution_count": 2,
   "metadata": {},
   "outputs": [],
   "source": [
    "df = pd.read_pickle('verified_tweets.pkl')\n",
    "df = pd.DataFrame(df)  \n",
    "df['timestamp'] = pd.to_datetime(df['timestamp'])\n",
    "df = df.loc[df.astype(str).drop_duplicates().index]\n",
    "df.to_pickle('verified_tweets_sample.pkl')\n",
    "df.shape\n",
    "df = df[df['timestamp'] < datetime.date(year=2019,month=1,day=1)]"
   ]
  },
  {
   "cell_type": "code",
   "execution_count": 4,
   "metadata": {},
   "outputs": [
    {
     "name": "stdout",
     "output_type": "stream",
     "text": [
      "(76497, 6)\n"
     ]
    },
    {
     "data": {
      "text/html": [
       "<div>\n",
       "<style scoped>\n",
       "    .dataframe tbody tr th:only-of-type {\n",
       "        vertical-align: middle;\n",
       "    }\n",
       "\n",
       "    .dataframe tbody tr th {\n",
       "        vertical-align: top;\n",
       "    }\n",
       "\n",
       "    .dataframe thead th {\n",
       "        text-align: right;\n",
       "    }\n",
       "</style>\n",
       "<table border=\"1\" class=\"dataframe\">\n",
       "  <thead>\n",
       "    <tr style=\"text-align: right;\">\n",
       "      <th></th>\n",
       "      <th>user.id</th>\n",
       "      <th>user.user</th>\n",
       "      <th>user.full_name</th>\n",
       "      <th>user.date_joined</th>\n",
       "      <th>user.followers</th>\n",
       "      <th>user.following</th>\n",
       "    </tr>\n",
       "  </thead>\n",
       "  <tbody>\n",
       "    <tr>\n",
       "      <th>0</th>\n",
       "      <td>20270659</td>\n",
       "      <td>blockbuster</td>\n",
       "      <td>Blockbuster</td>\n",
       "      <td>12:50 PM - 6 Feb 2009</td>\n",
       "      <td>31468.0</td>\n",
       "      <td>1181.0</td>\n",
       "    </tr>\n",
       "    <tr>\n",
       "      <th>1</th>\n",
       "      <td>21989875</td>\n",
       "      <td>wheresKR</td>\n",
       "      <td>Kevin J. Ryan</td>\n",
       "      <td>12:14 AM - 26 Feb 2009</td>\n",
       "      <td>4475.0</td>\n",
       "      <td>1344.0</td>\n",
       "    </tr>\n",
       "    <tr>\n",
       "      <th>2</th>\n",
       "      <td>410117577</td>\n",
       "      <td>GeekSlant</td>\n",
       "      <td>Geek 𝘚𝘭𝘢𝘯𝘵</td>\n",
       "      <td>9:21 AM - 11 Nov 2011</td>\n",
       "      <td>3123.0</td>\n",
       "      <td>38.0</td>\n",
       "    </tr>\n",
       "    <tr>\n",
       "      <th>3</th>\n",
       "      <td>12634602</td>\n",
       "      <td>sonic</td>\n",
       "      <td>Sonic</td>\n",
       "      <td>3:19 AM - 24 Jan 2008</td>\n",
       "      <td>6682.0</td>\n",
       "      <td>5712.0</td>\n",
       "    </tr>\n",
       "    <tr>\n",
       "      <th>4</th>\n",
       "      <td>66369206</td>\n",
       "      <td>FCC</td>\n",
       "      <td>The FCC</td>\n",
       "      <td>7:43 AM - 17 Aug 2009</td>\n",
       "      <td>711379.0</td>\n",
       "      <td>169.0</td>\n",
       "    </tr>\n",
       "    <tr>\n",
       "      <th>...</th>\n",
       "      <td>...</td>\n",
       "      <td>...</td>\n",
       "      <td>...</td>\n",
       "      <td>...</td>\n",
       "      <td>...</td>\n",
       "      <td>...</td>\n",
       "    </tr>\n",
       "    <tr>\n",
       "      <th>76492</th>\n",
       "      <td>38430500</td>\n",
       "      <td>developonline</td>\n",
       "      <td>DEVELOP</td>\n",
       "      <td>6:33 AM - 7 May 2009</td>\n",
       "      <td>59643.0</td>\n",
       "      <td>3137.0</td>\n",
       "    </tr>\n",
       "    <tr>\n",
       "      <th>76493</th>\n",
       "      <td>15915334</td>\n",
       "      <td>goodyk</td>\n",
       "      <td>Bill Goodykoontz</td>\n",
       "      <td>1:19 AM - 20 Aug 2008</td>\n",
       "      <td>4288.0</td>\n",
       "      <td>4016.0</td>\n",
       "    </tr>\n",
       "    <tr>\n",
       "      <th>76494</th>\n",
       "      <td>19196499</td>\n",
       "      <td>popartlab</td>\n",
       "      <td>Pop Art Lab</td>\n",
       "      <td>11:07 AM - 19 Jan 2009</td>\n",
       "      <td>487.0</td>\n",
       "      <td>349.0</td>\n",
       "    </tr>\n",
       "    <tr>\n",
       "      <th>76495</th>\n",
       "      <td>27745484</td>\n",
       "      <td>CBS8</td>\n",
       "      <td>CBS News 8</td>\n",
       "      <td>3:21 PM - 30 Mar 2009</td>\n",
       "      <td>148710.0</td>\n",
       "      <td>1739.0</td>\n",
       "    </tr>\n",
       "    <tr>\n",
       "      <th>76496</th>\n",
       "      <td>22952405</td>\n",
       "      <td>nwanaturals</td>\n",
       "      <td>NW Arkansas Naturals</td>\n",
       "      <td>10:04 AM - 5 Mar 2009</td>\n",
       "      <td>22526.0</td>\n",
       "      <td>8159.0</td>\n",
       "    </tr>\n",
       "  </tbody>\n",
       "</table>\n",
       "<p>75048 rows × 6 columns</p>\n",
       "</div>"
      ],
      "text/plain": [
       "         user.id      user.user        user.full_name        user.date_joined  \\\n",
       "0       20270659    blockbuster           Blockbuster   12:50 PM - 6 Feb 2009   \n",
       "1       21989875       wheresKR         Kevin J. Ryan  12:14 AM - 26 Feb 2009   \n",
       "2      410117577      GeekSlant            Geek 𝘚𝘭𝘢𝘯𝘵   9:21 AM - 11 Nov 2011   \n",
       "3       12634602          sonic                 Sonic   3:19 AM - 24 Jan 2008   \n",
       "4       66369206            FCC               The FCC   7:43 AM - 17 Aug 2009   \n",
       "...          ...            ...                   ...                     ...   \n",
       "76492   38430500  developonline               DEVELOP    6:33 AM - 7 May 2009   \n",
       "76493   15915334         goodyk      Bill Goodykoontz   1:19 AM - 20 Aug 2008   \n",
       "76494   19196499      popartlab           Pop Art Lab  11:07 AM - 19 Jan 2009   \n",
       "76495   27745484           CBS8            CBS News 8   3:21 PM - 30 Mar 2009   \n",
       "76496   22952405    nwanaturals  NW Arkansas Naturals   10:04 AM - 5 Mar 2009   \n",
       "\n",
       "       user.followers  user.following  \n",
       "0             31468.0          1181.0  \n",
       "1              4475.0          1344.0  \n",
       "2              3123.0            38.0  \n",
       "3              6682.0          5712.0  \n",
       "4            711379.0           169.0  \n",
       "...               ...             ...  \n",
       "76492         59643.0          3137.0  \n",
       "76493          4288.0          4016.0  \n",
       "76494           487.0           349.0  \n",
       "76495        148710.0          1739.0  \n",
       "76496         22526.0          8159.0  \n",
       "\n",
       "[75048 rows x 6 columns]"
      ]
     },
     "execution_count": 4,
     "metadata": {},
     "output_type": "execute_result"
    }
   ],
   "source": [
    "users = pd.read_pickle('user_accounts.pkl')\n",
    "print(users.shape)\n",
    "users.dropna()"
   ]
  },
  {
   "cell_type": "code",
   "execution_count": 5,
   "metadata": {},
   "outputs": [],
   "source": [
    "users.columns = users.columns.str.replace('user.','')\n",
    "users['user_id'] = users['id']\n",
    "users = users[['user_id', 'date_joined', 'followers', 'following']]"
   ]
  },
  {
   "cell_type": "code",
   "execution_count": 6,
   "metadata": {},
   "outputs": [],
   "source": [
    "df = df.merge(users, 'left', on = 'user_id')"
   ]
  },
  {
   "cell_type": "code",
   "execution_count": 7,
   "metadata": {},
   "outputs": [
    {
     "data": {
      "text/plain": [
       "(701407, 16)"
      ]
     },
     "execution_count": 7,
     "metadata": {},
     "output_type": "execute_result"
    }
   ],
   "source": [
    "df.shape"
   ]
  },
  {
   "cell_type": "code",
   "execution_count": 8,
   "metadata": {},
   "outputs": [
    {
     "data": {
      "text/plain": [
       "user_id                    object\n",
       "username                   object\n",
       "screen_name                object\n",
       "timestamp          datetime64[ns]\n",
       "text                       object\n",
       "hashtags                   object\n",
       "retweets                    int64\n",
       "likes                       int64\n",
       "has_media                    bool\n",
       "links                      object\n",
       "is_reply_to                  bool\n",
       "is_replied                   bool\n",
       "parent_tweet_id            object\n",
       "date_joined                object\n",
       "followers                 float64\n",
       "following                 float64\n",
       "dtype: object"
      ]
     },
     "execution_count": 8,
     "metadata": {},
     "output_type": "execute_result"
    }
   ],
   "source": [
    "df.dtypes"
   ]
  },
  {
   "cell_type": "code",
   "execution_count": 9,
   "metadata": {},
   "outputs": [
    {
     "data": {
      "text/plain": [
       "37821"
      ]
     },
     "execution_count": 9,
     "metadata": {},
     "output_type": "execute_result"
    }
   ],
   "source": [
    "df['following'].isna().sum()"
   ]
  },
  {
   "cell_type": "code",
   "execution_count": 10,
   "metadata": {},
   "outputs": [],
   "source": [
    "df = df[~(df['following'].isna()) | (df['likes'] < 1)]\n",
    "df = df[df['screen_name']!='USA_Zhongwen']"
   ]
  },
  {
   "cell_type": "code",
   "execution_count": 11,
   "metadata": {},
   "outputs": [
    {
     "data": {
      "text/plain": [
       "8730"
      ]
     },
     "execution_count": 11,
     "metadata": {},
     "output_type": "execute_result"
    }
   ],
   "source": [
    "df['following'].isna().sum()"
   ]
  },
  {
   "cell_type": "code",
   "execution_count": 14,
   "metadata": {},
   "outputs": [
    {
     "data": {
      "text/plain": [
       "73323"
      ]
     },
     "execution_count": 14,
     "metadata": {},
     "output_type": "execute_result"
    }
   ],
   "source": [
    "len(df['username'].unique())"
   ]
  },
  {
   "cell_type": "code",
   "execution_count": 15,
   "metadata": {},
   "outputs": [
    {
     "data": {
      "text/plain": [
       "(672316, 16)"
      ]
     },
     "execution_count": 15,
     "metadata": {},
     "output_type": "execute_result"
    }
   ],
   "source": [
    "df.shape"
   ]
  },
  {
   "cell_type": "markdown",
   "metadata": {},
   "source": [
    "Generate links, is_retweet, is_quote_tweet to match positive case dataset."
   ]
  },
  {
   "cell_type": "code",
   "execution_count": null,
   "metadata": {},
   "outputs": [],
   "source": [
    "df['links_string'] = [','.join(map(str, l)) for l in df['links']]\n",
    "df['is_retweet'] = df['text'].str.startswith('https://twitter.com', na = False)\n",
    "df['is_quote_tweet'] = (df['links_string'].str.contains('https://twitter.com', na = False, regex= False)) & (~df['is_retweet'])"
   ]
  },
  {
   "cell_type": "code",
   "execution_count": null,
   "metadata": {},
   "outputs": [],
   "source": [
    "df['is_quote_tweet'].value_counts()"
   ]
  },
  {
   "cell_type": "code",
   "execution_count": null,
   "metadata": {},
   "outputs": [],
   "source": [
    "df['links'] = df['links_string']"
   ]
  },
  {
   "cell_type": "code",
   "execution_count": null,
   "metadata": {},
   "outputs": [],
   "source": [
    "df.to_pickle('verified_cleaned.pkl')"
   ]
  }
 ],
 "metadata": {
  "kernelspec": {
   "display_name": "Python 3",
   "language": "python",
   "name": "python3"
  },
  "language_info": {
   "codemirror_mode": {
    "name": "ipython",
    "version": 3
   },
   "file_extension": ".py",
   "mimetype": "text/x-python",
   "name": "python",
   "nbconvert_exporter": "python",
   "pygments_lexer": "ipython3",
   "version": "3.7.5"
  },
  "toc": {
   "base_numbering": 1,
   "nav_menu": {},
   "number_sections": true,
   "sideBar": true,
   "skip_h1_title": false,
   "title_cell": "Table of Contents",
   "title_sidebar": "Contents",
   "toc_cell": false,
   "toc_position": {},
   "toc_section_display": true,
   "toc_window_display": false
  }
 },
 "nbformat": 4,
 "nbformat_minor": 2
}
