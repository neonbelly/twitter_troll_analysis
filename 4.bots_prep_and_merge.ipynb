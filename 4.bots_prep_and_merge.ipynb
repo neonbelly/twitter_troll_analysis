{
 "cells": [
  {
   "cell_type": "code",
   "execution_count": 1,
   "metadata": {},
   "outputs": [
    {
     "name": "stderr",
     "output_type": "stream",
     "text": [
      "INFO: {'User-Agent': 'Opera/9.80 (X11; Linux i686; Ubuntu/14.10) Presto/2.12.388 Version/12.16'}\n"
     ]
    }
   ],
   "source": [
    "import pandas as pd\n",
    "import twitterscraper\n",
    "from bs4 import BeautifulSoup\n",
    "import csv\n",
    "import datetime\n",
    "import pickle\n",
    "import matplotlib.pyplot as plt\n",
    "import seaborn as sns\n",
    "import re"
   ]
  },
  {
   "cell_type": "markdown",
   "metadata": {},
   "source": [
    "# Positive Case EDA"
   ]
  },
  {
   "cell_type": "code",
   "execution_count": 24,
   "metadata": {},
   "outputs": [],
   "source": [
    "bots_df = pd.read_pickle('bots.pkl')"
   ]
  },
  {
   "cell_type": "code",
   "execution_count": 25,
   "metadata": {},
   "outputs": [],
   "source": [
    "bots_df = bots_df[bots_df['language']=='English']"
   ]
  },
  {
   "cell_type": "code",
   "execution_count": 26,
   "metadata": {},
   "outputs": [
    {
     "data": {
      "text/plain": [
       "(952915, 21)"
      ]
     },
     "execution_count": 26,
     "metadata": {},
     "output_type": "execute_result"
    }
   ],
   "source": [
    "bots_df.shape"
   ]
  },
  {
   "cell_type": "code",
   "execution_count": 28,
   "metadata": {},
   "outputs": [
    {
     "data": {
      "text/plain": [
       "711"
      ]
     },
     "execution_count": 28,
     "metadata": {},
     "output_type": "execute_result"
    }
   ],
   "source": [
    "len(bots_df['external_author_id'].unique())"
   ]
  },
  {
   "cell_type": "code",
   "execution_count": 6,
   "metadata": {},
   "outputs": [
    {
     "data": {
      "text/plain": [
       "153400"
      ]
     },
     "execution_count": 6,
     "metadata": {},
     "output_type": "execute_result"
    }
   ],
   "source": [
    "sum(bots_df['post_type'].isna())"
   ]
  },
  {
   "cell_type": "code",
   "execution_count": 7,
   "metadata": {
    "scrolled": true
   },
   "outputs": [
    {
     "data": {
      "text/plain": [
       "RETWEET        114713\n",
       "QUOTE_TWEET      3796\n",
       "Name: post_type, dtype: int64"
      ]
     },
     "execution_count": 7,
     "metadata": {},
     "output_type": "execute_result"
    }
   ],
   "source": [
    "bots_df['post_type'].value_counts()"
   ]
  },
  {
   "cell_type": "code",
   "execution_count": 8,
   "metadata": {},
   "outputs": [],
   "source": [
    "# remove idenitfying characteristics from five thirty eight\n",
    "bots_df.drop(['harvested_date','account_type','account_category','article_url'], axis = 1, inplace= True)"
   ]
  },
  {
   "cell_type": "code",
   "execution_count": 9,
   "metadata": {},
   "outputs": [],
   "source": [
    "bots_df = bots_df[['external_author_id','author', 'content', 'publish_date', 'following', 'followers', 'updates', 'retweet','new_june_2018','post_type','tco1_step1']]"
   ]
  },
  {
   "cell_type": "code",
   "execution_count": 10,
   "metadata": {},
   "outputs": [],
   "source": [
    "bots_df.rename({'external_author_id':'user_id','author':'screen_name',\n",
    "           'publish_date':'timestamp','content':'text','tco1_step1':'links','retweet':'retweets'}, axis = 1, inplace = True)"
   ]
  },
  {
   "cell_type": "code",
   "execution_count": 11,
   "metadata": {},
   "outputs": [],
   "source": [
    "bots_df['hashtags'] = bots_df['text'].str.findall(r'\\B(\\#[a-zA-Z]+\\b)(?!;)')\n",
    "# bots_df['hashtags'] = [','.join(map(str, l)) for l in bots_df['hashtags']]"
   ]
  },
  {
   "cell_type": "code",
   "execution_count": 12,
   "metadata": {},
   "outputs": [],
   "source": [
    "bots_df['timestamp'] = pd.to_datetime(bots_df['timestamp'])"
   ]
  },
  {
   "cell_type": "code",
   "execution_count": 13,
   "metadata": {},
   "outputs": [],
   "source": [
    "bots_account_df = bots_df.groupby('user_id').agg({'timestamp':['min', 'max'],\n",
    "                                                     'text':'count'}).reset_index()"
   ]
  },
  {
   "cell_type": "code",
   "execution_count": 14,
   "metadata": {},
   "outputs": [],
   "source": [
    "bots_account_df.columns = ['user_id','date_joined','max_date','posts']"
   ]
  },
  {
   "cell_type": "code",
   "execution_count": 15,
   "metadata": {},
   "outputs": [],
   "source": [
    "bots_account_df['active_period'] = bots_account_df['max_date'] - bots_account_df['date_joined']\n",
    "bots_account_df['active_period'] = bots_account_df['active_period'].dt.days"
   ]
  },
  {
   "cell_type": "code",
   "execution_count": 16,
   "metadata": {},
   "outputs": [],
   "source": [
    "bots_df = bots_df.merge(bots_account_df, how = 'left', on = 'user_id')"
   ]
  },
  {
   "cell_type": "code",
   "execution_count": 17,
   "metadata": {},
   "outputs": [
    {
     "data": {
      "text/plain": [
       "RETWEET        114713\n",
       "QUOTE_TWEET      3796\n",
       "Name: post_type, dtype: int64"
      ]
     },
     "execution_count": 17,
     "metadata": {},
     "output_type": "execute_result"
    }
   ],
   "source": [
    "bots_df['post_type'].value_counts()"
   ]
  },
  {
   "cell_type": "code",
   "execution_count": 18,
   "metadata": {},
   "outputs": [],
   "source": [
    "bots_df['is_quote_tweet'] = bots_df['post_type']=='QUOTE_TWEET'\n",
    "bots_df['is_retweet'] = bots_df['post_type']=='RETWEET'"
   ]
  },
  {
   "cell_type": "code",
   "execution_count": 19,
   "metadata": {},
   "outputs": [
    {
     "data": {
      "text/html": [
       "<div>\n",
       "<style scoped>\n",
       "    .dataframe tbody tr th:only-of-type {\n",
       "        vertical-align: middle;\n",
       "    }\n",
       "\n",
       "    .dataframe tbody tr th {\n",
       "        vertical-align: top;\n",
       "    }\n",
       "\n",
       "    .dataframe thead th {\n",
       "        text-align: right;\n",
       "    }\n",
       "</style>\n",
       "<table border=\"1\" class=\"dataframe\">\n",
       "  <thead>\n",
       "    <tr style=\"text-align: right;\">\n",
       "      <th></th>\n",
       "      <th>user_id</th>\n",
       "      <th>screen_name</th>\n",
       "      <th>text</th>\n",
       "      <th>timestamp</th>\n",
       "      <th>following</th>\n",
       "      <th>followers</th>\n",
       "      <th>updates</th>\n",
       "      <th>retweets</th>\n",
       "      <th>new_june_2018</th>\n",
       "      <th>post_type</th>\n",
       "      <th>links</th>\n",
       "      <th>hashtags</th>\n",
       "      <th>date_joined</th>\n",
       "      <th>max_date</th>\n",
       "      <th>posts</th>\n",
       "      <th>active_period</th>\n",
       "      <th>is_quote_tweet</th>\n",
       "      <th>is_retweet</th>\n",
       "    </tr>\n",
       "  </thead>\n",
       "  <tbody>\n",
       "    <tr>\n",
       "      <th>0</th>\n",
       "      <td>890000000000000000</td>\n",
       "      <td>JOHAAJOTS</td>\n",
       "      <td>#jobb According to Mad Max, no one is More “DE...</td>\n",
       "      <td>2017-08-05 11:41:00</td>\n",
       "      <td>2960</td>\n",
       "      <td>669</td>\n",
       "      <td>400</td>\n",
       "      <td>0</td>\n",
       "      <td>0</td>\n",
       "      <td>NaN</td>\n",
       "      <td>https://twitter.com/johaajots/status/893799058...</td>\n",
       "      <td>[#jobb, #job]</td>\n",
       "      <td>2017-07-25 08:52:00</td>\n",
       "      <td>2017-08-18 22:37:00</td>\n",
       "      <td>14046</td>\n",
       "      <td>24</td>\n",
       "      <td>False</td>\n",
       "      <td>False</td>\n",
       "    </tr>\n",
       "    <tr>\n",
       "      <th>1</th>\n",
       "      <td>890000000000000000</td>\n",
       "      <td>JOHAAJOTS</td>\n",
       "      <td>#jobb TRUMP EFFECT : July Job Numbers CRUSH Ex...</td>\n",
       "      <td>2017-08-05 11:46:00</td>\n",
       "      <td>2960</td>\n",
       "      <td>669</td>\n",
       "      <td>401</td>\n",
       "      <td>0</td>\n",
       "      <td>0</td>\n",
       "      <td>NaN</td>\n",
       "      <td>https://twitter.com/johaajots/status/893800394...</td>\n",
       "      <td>[#jobb, #job]</td>\n",
       "      <td>2017-07-25 08:52:00</td>\n",
       "      <td>2017-08-18 22:37:00</td>\n",
       "      <td>14046</td>\n",
       "      <td>24</td>\n",
       "      <td>False</td>\n",
       "      <td>False</td>\n",
       "    </tr>\n",
       "    <tr>\n",
       "      <th>2</th>\n",
       "      <td>890000000000000000</td>\n",
       "      <td>JOHAAJOTS</td>\n",
       "      <td>#jobb You Won’t Believe Who is Now Calling for...</td>\n",
       "      <td>2017-08-05 11:46:00</td>\n",
       "      <td>2960</td>\n",
       "      <td>669</td>\n",
       "      <td>402</td>\n",
       "      <td>0</td>\n",
       "      <td>0</td>\n",
       "      <td>NaN</td>\n",
       "      <td>https://twitter.com/johaajots/status/893800402...</td>\n",
       "      <td>[#jobb, #job]</td>\n",
       "      <td>2017-07-25 08:52:00</td>\n",
       "      <td>2017-08-18 22:37:00</td>\n",
       "      <td>14046</td>\n",
       "      <td>24</td>\n",
       "      <td>False</td>\n",
       "      <td>False</td>\n",
       "    </tr>\n",
       "    <tr>\n",
       "      <th>3</th>\n",
       "      <td>890000000000000000</td>\n",
       "      <td>JOHAAJOTS</td>\n",
       "      <td>#jobb Fake News Media Ignoring This! https://t...</td>\n",
       "      <td>2017-08-05 11:51:00</td>\n",
       "      <td>2960</td>\n",
       "      <td>669</td>\n",
       "      <td>406</td>\n",
       "      <td>0</td>\n",
       "      <td>0</td>\n",
       "      <td>NaN</td>\n",
       "      <td>https://twitter.com/johaajots/status/893801597...</td>\n",
       "      <td>[#jobb, #job]</td>\n",
       "      <td>2017-07-25 08:52:00</td>\n",
       "      <td>2017-08-18 22:37:00</td>\n",
       "      <td>14046</td>\n",
       "      <td>24</td>\n",
       "      <td>False</td>\n",
       "      <td>False</td>\n",
       "    </tr>\n",
       "    <tr>\n",
       "      <th>4</th>\n",
       "      <td>890000000000000000</td>\n",
       "      <td>JOHAAJOTS</td>\n",
       "      <td>#jobb WITCH HUNT : Russia Probe Includes Tenan...</td>\n",
       "      <td>2017-08-05 11:51:00</td>\n",
       "      <td>2960</td>\n",
       "      <td>669</td>\n",
       "      <td>404</td>\n",
       "      <td>0</td>\n",
       "      <td>0</td>\n",
       "      <td>NaN</td>\n",
       "      <td>https://twitter.com/johaajots/status/893801584...</td>\n",
       "      <td>[#jobb, #job]</td>\n",
       "      <td>2017-07-25 08:52:00</td>\n",
       "      <td>2017-08-18 22:37:00</td>\n",
       "      <td>14046</td>\n",
       "      <td>24</td>\n",
       "      <td>False</td>\n",
       "      <td>False</td>\n",
       "    </tr>\n",
       "  </tbody>\n",
       "</table>\n",
       "</div>"
      ],
      "text/plain": [
       "              user_id screen_name  \\\n",
       "0  890000000000000000   JOHAAJOTS   \n",
       "1  890000000000000000   JOHAAJOTS   \n",
       "2  890000000000000000   JOHAAJOTS   \n",
       "3  890000000000000000   JOHAAJOTS   \n",
       "4  890000000000000000   JOHAAJOTS   \n",
       "\n",
       "                                                text           timestamp  \\\n",
       "0  #jobb According to Mad Max, no one is More “DE... 2017-08-05 11:41:00   \n",
       "1  #jobb TRUMP EFFECT : July Job Numbers CRUSH Ex... 2017-08-05 11:46:00   \n",
       "2  #jobb You Won’t Believe Who is Now Calling for... 2017-08-05 11:46:00   \n",
       "3  #jobb Fake News Media Ignoring This! https://t... 2017-08-05 11:51:00   \n",
       "4  #jobb WITCH HUNT : Russia Probe Includes Tenan... 2017-08-05 11:51:00   \n",
       "\n",
       "   following  followers  updates  retweets  new_june_2018 post_type  \\\n",
       "0       2960        669      400         0              0       NaN   \n",
       "1       2960        669      401         0              0       NaN   \n",
       "2       2960        669      402         0              0       NaN   \n",
       "3       2960        669      406         0              0       NaN   \n",
       "4       2960        669      404         0              0       NaN   \n",
       "\n",
       "                                               links       hashtags  \\\n",
       "0  https://twitter.com/johaajots/status/893799058...  [#jobb, #job]   \n",
       "1  https://twitter.com/johaajots/status/893800394...  [#jobb, #job]   \n",
       "2  https://twitter.com/johaajots/status/893800402...  [#jobb, #job]   \n",
       "3  https://twitter.com/johaajots/status/893801597...  [#jobb, #job]   \n",
       "4  https://twitter.com/johaajots/status/893801584...  [#jobb, #job]   \n",
       "\n",
       "          date_joined            max_date  posts  active_period  \\\n",
       "0 2017-07-25 08:52:00 2017-08-18 22:37:00  14046             24   \n",
       "1 2017-07-25 08:52:00 2017-08-18 22:37:00  14046             24   \n",
       "2 2017-07-25 08:52:00 2017-08-18 22:37:00  14046             24   \n",
       "3 2017-07-25 08:52:00 2017-08-18 22:37:00  14046             24   \n",
       "4 2017-07-25 08:52:00 2017-08-18 22:37:00  14046             24   \n",
       "\n",
       "   is_quote_tweet  is_retweet  \n",
       "0           False       False  \n",
       "1           False       False  \n",
       "2           False       False  \n",
       "3           False       False  \n",
       "4           False       False  "
      ]
     },
     "execution_count": 19,
     "metadata": {},
     "output_type": "execute_result"
    }
   ],
   "source": [
    "bots_df.head()"
   ]
  },
  {
   "cell_type": "code",
   "execution_count": 20,
   "metadata": {},
   "outputs": [],
   "source": [
    "bots_df['is_retweet'] = bots_df['text'].str.startswith('https://twitter.com', na = False)\n",
    "bots_df['is_quote_tweet'] = (bots_df['links'].str.contains('https://twitter.com', na = False, regex= False)) & (~bots_df['is_retweet'])"
   ]
  },
  {
   "cell_type": "code",
   "execution_count": 23,
   "metadata": {},
   "outputs": [],
   "source": [
    "# bots_df['is_bot']=1\n",
    "\n",
    "# common_cols = df.columns.intersection(bots_df.columns)\n",
    "# bots_df = bots_df[common_cols]\n",
    "\n",
    "# bots_df['hashtags'].fillna(0, inplace= True)\n",
    "# bots_df['links'].fillna('', inplace= True)\n",
    "\n",
    "# bots_df.to_pickle('validation_bots.pkl')"
   ]
  },
  {
   "cell_type": "markdown",
   "metadata": {},
   "source": [
    "# Merging"
   ]
  },
  {
   "cell_type": "code",
   "execution_count": 29,
   "metadata": {},
   "outputs": [],
   "source": [
    "df = pd.read_pickle('verified_cleaned.pkl')"
   ]
  },
  {
   "cell_type": "code",
   "execution_count": 30,
   "metadata": {},
   "outputs": [
    {
     "data": {
      "text/html": [
       "<div>\n",
       "<style scoped>\n",
       "    .dataframe tbody tr th:only-of-type {\n",
       "        vertical-align: middle;\n",
       "    }\n",
       "\n",
       "    .dataframe tbody tr th {\n",
       "        vertical-align: top;\n",
       "    }\n",
       "\n",
       "    .dataframe thead th {\n",
       "        text-align: right;\n",
       "    }\n",
       "</style>\n",
       "<table border=\"1\" class=\"dataframe\">\n",
       "  <thead>\n",
       "    <tr style=\"text-align: right;\">\n",
       "      <th></th>\n",
       "      <th>user_id</th>\n",
       "      <th>username</th>\n",
       "      <th>screen_name</th>\n",
       "      <th>timestamp</th>\n",
       "      <th>text</th>\n",
       "      <th>hashtags</th>\n",
       "      <th>retweets</th>\n",
       "      <th>likes</th>\n",
       "      <th>has_media</th>\n",
       "      <th>links</th>\n",
       "      <th>is_reply_to</th>\n",
       "      <th>is_replied</th>\n",
       "      <th>parent_tweet_id</th>\n",
       "      <th>date_joined</th>\n",
       "      <th>followers</th>\n",
       "      <th>following</th>\n",
       "      <th>links_string</th>\n",
       "      <th>is_retweet</th>\n",
       "      <th>is_quote_tweet</th>\n",
       "    </tr>\n",
       "  </thead>\n",
       "  <tbody>\n",
       "    <tr>\n",
       "      <th>6</th>\n",
       "      <td>3519500234</td>\n",
       "      <td>State of Arizona Research Library</td>\n",
       "      <td>StateLibAZ</td>\n",
       "      <td>2018-12-19 14:13:16</td>\n",
       "      <td>A blast from our DAZL past! Make sure you are ...</td>\n",
       "      <td>[]</td>\n",
       "      <td>0</td>\n",
       "      <td>0</td>\n",
       "      <td>True</td>\n",
       "      <td>https://www.facebook.com/digitalazlibrary/phot...</td>\n",
       "      <td>False</td>\n",
       "      <td>False</td>\n",
       "      <td></td>\n",
       "      <td>NaN</td>\n",
       "      <td>NaN</td>\n",
       "      <td>NaN</td>\n",
       "      <td>https://www.facebook.com/digitalazlibrary/phot...</td>\n",
       "      <td>False</td>\n",
       "      <td>False</td>\n",
       "    </tr>\n",
       "    <tr>\n",
       "      <th>15</th>\n",
       "      <td>104904750</td>\n",
       "      <td>Michele Reagan</td>\n",
       "      <td>SecretaryReagan</td>\n",
       "      <td>2018-07-30 15:26:05</td>\n",
       "      <td>The @StateLibAZ had a busy year consolidating ...</td>\n",
       "      <td>[]</td>\n",
       "      <td>3</td>\n",
       "      <td>0</td>\n",
       "      <td>False</td>\n",
       "      <td>http://go.azsos.gov/g7p7</td>\n",
       "      <td>False</td>\n",
       "      <td>False</td>\n",
       "      <td></td>\n",
       "      <td>NaN</td>\n",
       "      <td>NaN</td>\n",
       "      <td>NaN</td>\n",
       "      <td>http://go.azsos.gov/g7p7</td>\n",
       "      <td>False</td>\n",
       "      <td>False</td>\n",
       "    </tr>\n",
       "    <tr>\n",
       "      <th>31</th>\n",
       "      <td>3519500234</td>\n",
       "      <td>State of Arizona Research Library</td>\n",
       "      <td>StateLibAZ</td>\n",
       "      <td>2018-04-04 18:22:03</td>\n",
       "      <td>From upcoming conferences and workshops to sup...</td>\n",
       "      <td>[]</td>\n",
       "      <td>1</td>\n",
       "      <td>0</td>\n",
       "      <td>False</td>\n",
       "      <td>https://conta.cc/2GBmbdS</td>\n",
       "      <td>False</td>\n",
       "      <td>False</td>\n",
       "      <td></td>\n",
       "      <td>NaN</td>\n",
       "      <td>NaN</td>\n",
       "      <td>NaN</td>\n",
       "      <td>https://conta.cc/2GBmbdS</td>\n",
       "      <td>False</td>\n",
       "      <td>False</td>\n",
       "    </tr>\n",
       "    <tr>\n",
       "      <th>33</th>\n",
       "      <td>104904750</td>\n",
       "      <td>Michele Reagan</td>\n",
       "      <td>SecretaryReagan</td>\n",
       "      <td>2018-02-06 19:10:03</td>\n",
       "      <td>E-rate deadline approaching http://www.wmicent...</td>\n",
       "      <td>[]</td>\n",
       "      <td>1</td>\n",
       "      <td>0</td>\n",
       "      <td>False</td>\n",
       "      <td>http://www.wmicentral.com/news/apache_county/e...</td>\n",
       "      <td>False</td>\n",
       "      <td>False</td>\n",
       "      <td></td>\n",
       "      <td>NaN</td>\n",
       "      <td>NaN</td>\n",
       "      <td>NaN</td>\n",
       "      <td>http://www.wmicentral.com/news/apache_county/e...</td>\n",
       "      <td>False</td>\n",
       "      <td>False</td>\n",
       "    </tr>\n",
       "    <tr>\n",
       "      <th>34</th>\n",
       "      <td>104904750</td>\n",
       "      <td>Michele Reagan</td>\n",
       "      <td>SecretaryReagan</td>\n",
       "      <td>2018-01-09 22:06:23</td>\n",
       "      <td>LIBRARIANS: The January edition of our Library...</td>\n",
       "      <td>[]</td>\n",
       "      <td>1</td>\n",
       "      <td>0</td>\n",
       "      <td>True</td>\n",
       "      <td>http://conta.cc/2FlHWKz</td>\n",
       "      <td>False</td>\n",
       "      <td>False</td>\n",
       "      <td></td>\n",
       "      <td>NaN</td>\n",
       "      <td>NaN</td>\n",
       "      <td>NaN</td>\n",
       "      <td>http://conta.cc/2FlHWKz</td>\n",
       "      <td>False</td>\n",
       "      <td>False</td>\n",
       "    </tr>\n",
       "  </tbody>\n",
       "</table>\n",
       "</div>"
      ],
      "text/plain": [
       "       user_id                           username      screen_name  \\\n",
       "6   3519500234  State of Arizona Research Library       StateLibAZ   \n",
       "15   104904750                     Michele Reagan  SecretaryReagan   \n",
       "31  3519500234  State of Arizona Research Library       StateLibAZ   \n",
       "33   104904750                     Michele Reagan  SecretaryReagan   \n",
       "34   104904750                     Michele Reagan  SecretaryReagan   \n",
       "\n",
       "             timestamp                                               text  \\\n",
       "6  2018-12-19 14:13:16  A blast from our DAZL past! Make sure you are ...   \n",
       "15 2018-07-30 15:26:05  The @StateLibAZ had a busy year consolidating ...   \n",
       "31 2018-04-04 18:22:03  From upcoming conferences and workshops to sup...   \n",
       "33 2018-02-06 19:10:03  E-rate deadline approaching http://www.wmicent...   \n",
       "34 2018-01-09 22:06:23  LIBRARIANS: The January edition of our Library...   \n",
       "\n",
       "   hashtags  retweets  likes  has_media  \\\n",
       "6        []         0      0       True   \n",
       "15       []         3      0      False   \n",
       "31       []         1      0      False   \n",
       "33       []         1      0      False   \n",
       "34       []         1      0       True   \n",
       "\n",
       "                                                links  is_reply_to  \\\n",
       "6   https://www.facebook.com/digitalazlibrary/phot...        False   \n",
       "15                           http://go.azsos.gov/g7p7        False   \n",
       "31                           https://conta.cc/2GBmbdS        False   \n",
       "33  http://www.wmicentral.com/news/apache_county/e...        False   \n",
       "34                            http://conta.cc/2FlHWKz        False   \n",
       "\n",
       "    is_replied parent_tweet_id date_joined  followers  following  \\\n",
       "6        False                         NaN        NaN        NaN   \n",
       "15       False                         NaN        NaN        NaN   \n",
       "31       False                         NaN        NaN        NaN   \n",
       "33       False                         NaN        NaN        NaN   \n",
       "34       False                         NaN        NaN        NaN   \n",
       "\n",
       "                                         links_string  is_retweet  \\\n",
       "6   https://www.facebook.com/digitalazlibrary/phot...       False   \n",
       "15                           http://go.azsos.gov/g7p7       False   \n",
       "31                           https://conta.cc/2GBmbdS       False   \n",
       "33  http://www.wmicentral.com/news/apache_county/e...       False   \n",
       "34                            http://conta.cc/2FlHWKz       False   \n",
       "\n",
       "    is_quote_tweet  \n",
       "6            False  \n",
       "15           False  \n",
       "31           False  \n",
       "33           False  \n",
       "34           False  "
      ]
     },
     "execution_count": 30,
     "metadata": {},
     "output_type": "execute_result"
    }
   ],
   "source": [
    "df.head()"
   ]
  },
  {
   "cell_type": "code",
   "execution_count": 32,
   "metadata": {},
   "outputs": [
    {
     "data": {
      "text/plain": [
       "(672316, 19)"
      ]
     },
     "execution_count": 32,
     "metadata": {},
     "output_type": "execute_result"
    }
   ],
   "source": [
    "df.shape"
   ]
  },
  {
   "cell_type": "code",
   "execution_count": 31,
   "metadata": {},
   "outputs": [
    {
     "data": {
      "text/plain": [
       "75329"
      ]
     },
     "execution_count": 31,
     "metadata": {},
     "output_type": "execute_result"
    }
   ],
   "source": [
    "len(df['user_id'].unique())"
   ]
  },
  {
   "cell_type": "code",
   "execution_count": 23,
   "metadata": {},
   "outputs": [],
   "source": [
    "# Merging\n",
    "\n",
    "df['is_bot']=0\n",
    "bots_df['is_bot']=1\n",
    "\n",
    "common_cols = df.columns.intersection(bots_df.columns)\n",
    "A = df[common_cols]\n",
    "B = bots_df[common_cols]\n",
    "\n",
    "merged_df = pd.concat([A,B])"
   ]
  },
  {
   "cell_type": "code",
   "execution_count": 24,
   "metadata": {},
   "outputs": [
    {
     "data": {
      "text/html": [
       "<div>\n",
       "<style scoped>\n",
       "    .dataframe tbody tr th:only-of-type {\n",
       "        vertical-align: middle;\n",
       "    }\n",
       "\n",
       "    .dataframe tbody tr th {\n",
       "        vertical-align: top;\n",
       "    }\n",
       "\n",
       "    .dataframe thead th {\n",
       "        text-align: right;\n",
       "    }\n",
       "</style>\n",
       "<table border=\"1\" class=\"dataframe\">\n",
       "  <thead>\n",
       "    <tr style=\"text-align: right;\">\n",
       "      <th></th>\n",
       "      <th>user_id</th>\n",
       "      <th>screen_name</th>\n",
       "      <th>timestamp</th>\n",
       "      <th>text</th>\n",
       "      <th>hashtags</th>\n",
       "      <th>retweets</th>\n",
       "      <th>links</th>\n",
       "      <th>date_joined</th>\n",
       "      <th>followers</th>\n",
       "      <th>following</th>\n",
       "      <th>is_retweet</th>\n",
       "      <th>is_quote_tweet</th>\n",
       "      <th>is_bot</th>\n",
       "    </tr>\n",
       "  </thead>\n",
       "  <tbody>\n",
       "    <tr>\n",
       "      <th>507978</th>\n",
       "      <td>2491401030</td>\n",
       "      <td>CLIFTONHUGHES_</td>\n",
       "      <td>2016-01-10 21:55:00</td>\n",
       "      <td>Tonight on @60Minutes see our client Anthony R...</td>\n",
       "      <td>[]</td>\n",
       "      <td>1</td>\n",
       "      <td>http://www.cbsnews.com/live/video/60-minutes-p...</td>\n",
       "      <td>2015-01-13 12:23:00</td>\n",
       "      <td>141.0</td>\n",
       "      <td>405.0</td>\n",
       "      <td>False</td>\n",
       "      <td>False</td>\n",
       "      <td>1</td>\n",
       "    </tr>\n",
       "    <tr>\n",
       "      <th>789111</th>\n",
       "      <td>2540611879</td>\n",
       "      <td>ERICARUTTER</td>\n",
       "      <td>2017-01-30 12:09:00</td>\n",
       "      <td>Touched by D'Angelo #AddABandToATVShow</td>\n",
       "      <td>[#AddABandToATVShow]</td>\n",
       "      <td>0</td>\n",
       "      <td>NaN</td>\n",
       "      <td>2014-11-27 08:35:00</td>\n",
       "      <td>2257.0</td>\n",
       "      <td>2784.0</td>\n",
       "      <td>False</td>\n",
       "      <td>False</td>\n",
       "      <td>1</td>\n",
       "    </tr>\n",
       "    <tr>\n",
       "      <th>111836</th>\n",
       "      <td>35261904</td>\n",
       "      <td>saradiamond</td>\n",
       "      <td>2017-11-17 17:49:35</td>\n",
       "      <td>Thanks friend!! https://twitter.com/jasonthesc...</td>\n",
       "      <td>[]</td>\n",
       "      <td>1</td>\n",
       "      <td>https://twitter.com/jasonthescott/status/93157...</td>\n",
       "      <td>10:26 AM - 25 Apr 2009</td>\n",
       "      <td>7528.0</td>\n",
       "      <td>726.0</td>\n",
       "      <td>False</td>\n",
       "      <td>True</td>\n",
       "      <td>0</td>\n",
       "    </tr>\n",
       "    <tr>\n",
       "      <th>391867</th>\n",
       "      <td>130557513</td>\n",
       "      <td>mehdirhasan</td>\n",
       "      <td>2018-11-29 15:34:16</td>\n",
       "      <td>The far-right &amp; pro-Likud brigade are up in ar...</td>\n",
       "      <td>[]</td>\n",
       "      <td>83</td>\n",
       "      <td></td>\n",
       "      <td>9:57 AM - 7 Apr 2010</td>\n",
       "      <td>808517.0</td>\n",
       "      <td>2649.0</td>\n",
       "      <td>False</td>\n",
       "      <td>False</td>\n",
       "      <td>0</td>\n",
       "    </tr>\n",
       "    <tr>\n",
       "      <th>432556</th>\n",
       "      <td>898000000000000000</td>\n",
       "      <td>CHARMEESTRS</td>\n",
       "      <td>2017-09-19 11:58:00</td>\n",
       "      <td>Liberals Freak Out Over Sean Spicer’s Emmys Jo...</td>\n",
       "      <td>[]</td>\n",
       "      <td>0</td>\n",
       "      <td>http://ift.tt/2fgiiyU</td>\n",
       "      <td>2017-08-18 05:52:00</td>\n",
       "      <td>1686.0</td>\n",
       "      <td>4818.0</td>\n",
       "      <td>False</td>\n",
       "      <td>False</td>\n",
       "      <td>1</td>\n",
       "    </tr>\n",
       "    <tr>\n",
       "      <th>607896</th>\n",
       "      <td>2495567768</td>\n",
       "      <td>DAILYSANFRAN</td>\n",
       "      <td>2017-02-11 17:13:00</td>\n",
       "      <td>VIDEO: Giant’s ‘Fan Fest’ underway at AT&amp;amp;T...</td>\n",
       "      <td>[]</td>\n",
       "      <td>0</td>\n",
       "      <td>https://twitter.com/DailySanFran/status/830464...</td>\n",
       "      <td>2015-12-09 22:38:00</td>\n",
       "      <td>16797.0</td>\n",
       "      <td>4568.0</td>\n",
       "      <td>False</td>\n",
       "      <td>True</td>\n",
       "      <td>1</td>\n",
       "    </tr>\n",
       "    <tr>\n",
       "      <th>5579</th>\n",
       "      <td>45850426</td>\n",
       "      <td>brimjar</td>\n",
       "      <td>2016-05-23 17:53:49</td>\n",
       "      <td>Landing in London #aviation #timelapse #boeing...</td>\n",
       "      <td>[aviation, timelapse, boeing777, widebody]</td>\n",
       "      <td>4</td>\n",
       "      <td>https://www.instagram.com/p/BFwkRRgk-oh/</td>\n",
       "      <td>7:40 AM - 9 Jun 2009</td>\n",
       "      <td>7621.0</td>\n",
       "      <td>275.0</td>\n",
       "      <td>False</td>\n",
       "      <td>False</td>\n",
       "      <td>0</td>\n",
       "    </tr>\n",
       "    <tr>\n",
       "      <th>355141</th>\n",
       "      <td>48459607</td>\n",
       "      <td>rubarrichello</td>\n",
       "      <td>2018-07-05 06:59:04</td>\n",
       "      <td>https://www.instagram.com/p/Bk1z0enhcb5/?utm_...</td>\n",
       "      <td>[]</td>\n",
       "      <td>2</td>\n",
       "      <td>https://www.instagram.com/p/Bk1z0enhcb5/?utm_s...</td>\n",
       "      <td>12:29 PM - 18 Jun 2009</td>\n",
       "      <td>2086920.0</td>\n",
       "      <td>387.0</td>\n",
       "      <td>False</td>\n",
       "      <td>False</td>\n",
       "      <td>0</td>\n",
       "    </tr>\n",
       "    <tr>\n",
       "      <th>397087</th>\n",
       "      <td>1629828379</td>\n",
       "      <td>CASSISHERE</td>\n",
       "      <td>2015-12-07 07:53:00</td>\n",
       "      <td>Up next at 12A PST \\| 3A EST \\| 8A  GMT @hasht...</td>\n",
       "      <td>[]</td>\n",
       "      <td>1</td>\n",
       "      <td>NaN</td>\n",
       "      <td>2015-01-06 14:37:00</td>\n",
       "      <td>816.0</td>\n",
       "      <td>1196.0</td>\n",
       "      <td>False</td>\n",
       "      <td>False</td>\n",
       "      <td>1</td>\n",
       "    </tr>\n",
       "    <tr>\n",
       "      <th>61105</th>\n",
       "      <td>791956034579345408</td>\n",
       "      <td>comicreliefsch</td>\n",
       "      <td>2017-02-08 16:21:40</td>\n",
       "      <td>COMPETITION: Win a celeb visit to your school ...</td>\n",
       "      <td>[]</td>\n",
       "      <td>5</td>\n",
       "      <td>https://goo.gl/mYRsDd</td>\n",
       "      <td>3:53 AM - 28 Oct 2016</td>\n",
       "      <td>4989.0</td>\n",
       "      <td>3456.0</td>\n",
       "      <td>False</td>\n",
       "      <td>False</td>\n",
       "      <td>0</td>\n",
       "    </tr>\n",
       "  </tbody>\n",
       "</table>\n",
       "</div>"
      ],
      "text/plain": [
       "                   user_id     screen_name           timestamp  \\\n",
       "507978          2491401030  CLIFTONHUGHES_ 2016-01-10 21:55:00   \n",
       "789111          2540611879     ERICARUTTER 2017-01-30 12:09:00   \n",
       "111836            35261904     saradiamond 2017-11-17 17:49:35   \n",
       "391867           130557513     mehdirhasan 2018-11-29 15:34:16   \n",
       "432556  898000000000000000     CHARMEESTRS 2017-09-19 11:58:00   \n",
       "607896          2495567768    DAILYSANFRAN 2017-02-11 17:13:00   \n",
       "5579              45850426         brimjar 2016-05-23 17:53:49   \n",
       "355141            48459607   rubarrichello 2018-07-05 06:59:04   \n",
       "397087          1629828379      CASSISHERE 2015-12-07 07:53:00   \n",
       "61105   791956034579345408  comicreliefsch 2017-02-08 16:21:40   \n",
       "\n",
       "                                                     text  \\\n",
       "507978  Tonight on @60Minutes see our client Anthony R...   \n",
       "789111             Touched by D'Angelo #AddABandToATVShow   \n",
       "111836  Thanks friend!! https://twitter.com/jasonthesc...   \n",
       "391867  The far-right & pro-Likud brigade are up in ar...   \n",
       "432556  Liberals Freak Out Over Sean Spicer’s Emmys Jo...   \n",
       "607896  VIDEO: Giant’s ‘Fan Fest’ underway at AT&amp;T...   \n",
       "5579    Landing in London #aviation #timelapse #boeing...   \n",
       "355141   https://www.instagram.com/p/Bk1z0enhcb5/?utm_...   \n",
       "397087  Up next at 12A PST \\| 3A EST \\| 8A  GMT @hasht...   \n",
       "61105   COMPETITION: Win a celeb visit to your school ...   \n",
       "\n",
       "                                          hashtags  retweets  \\\n",
       "507978                                          []         1   \n",
       "789111                        [#AddABandToATVShow]         0   \n",
       "111836                                          []         1   \n",
       "391867                                          []        83   \n",
       "432556                                          []         0   \n",
       "607896                                          []         0   \n",
       "5579    [aviation, timelapse, boeing777, widebody]         4   \n",
       "355141                                          []         2   \n",
       "397087                                          []         1   \n",
       "61105                                           []         5   \n",
       "\n",
       "                                                    links  \\\n",
       "507978  http://www.cbsnews.com/live/video/60-minutes-p...   \n",
       "789111                                                NaN   \n",
       "111836  https://twitter.com/jasonthescott/status/93157...   \n",
       "391867                                                      \n",
       "432556                              http://ift.tt/2fgiiyU   \n",
       "607896  https://twitter.com/DailySanFran/status/830464...   \n",
       "5579             https://www.instagram.com/p/BFwkRRgk-oh/   \n",
       "355141  https://www.instagram.com/p/Bk1z0enhcb5/?utm_s...   \n",
       "397087                                                NaN   \n",
       "61105                               https://goo.gl/mYRsDd   \n",
       "\n",
       "                   date_joined  followers  following  is_retweet  \\\n",
       "507978     2015-01-13 12:23:00      141.0      405.0       False   \n",
       "789111     2014-11-27 08:35:00     2257.0     2784.0       False   \n",
       "111836  10:26 AM - 25 Apr 2009     7528.0      726.0       False   \n",
       "391867    9:57 AM - 7 Apr 2010   808517.0     2649.0       False   \n",
       "432556     2017-08-18 05:52:00     1686.0     4818.0       False   \n",
       "607896     2015-12-09 22:38:00    16797.0     4568.0       False   \n",
       "5579      7:40 AM - 9 Jun 2009     7621.0      275.0       False   \n",
       "355141  12:29 PM - 18 Jun 2009  2086920.0      387.0       False   \n",
       "397087     2015-01-06 14:37:00      816.0     1196.0       False   \n",
       "61105    3:53 AM - 28 Oct 2016     4989.0     3456.0       False   \n",
       "\n",
       "        is_quote_tweet  is_bot  \n",
       "507978           False       1  \n",
       "789111           False       1  \n",
       "111836            True       0  \n",
       "391867           False       0  \n",
       "432556           False       1  \n",
       "607896            True       1  \n",
       "5579             False       0  \n",
       "355141           False       0  \n",
       "397087           False       1  \n",
       "61105            False       0  "
      ]
     },
     "execution_count": 24,
     "metadata": {},
     "output_type": "execute_result"
    }
   ],
   "source": [
    "del(A,B)\n",
    "\n",
    "merged_df.sample(10)"
   ]
  },
  {
   "cell_type": "code",
   "execution_count": 25,
   "metadata": {},
   "outputs": [],
   "source": [
    "merged_df['is_bot'].value_counts()\n",
    "\n",
    "merged_df['hashtags'].fillna(0, inplace= True)\n",
    "merged_df['links'].fillna('', inplace= True)\n",
    "\n",
    "merged_df[merged_df.isnull().any(axis=1)]\n",
    "merged_df.to_csv('merged_sample.csv')"
   ]
  },
  {
   "cell_type": "code",
   "execution_count": null,
   "metadata": {},
   "outputs": [],
   "source": []
  }
 ],
 "metadata": {
  "kernelspec": {
   "display_name": "Python 3",
   "language": "python",
   "name": "python3"
  },
  "language_info": {
   "codemirror_mode": {
    "name": "ipython",
    "version": 3
   },
   "file_extension": ".py",
   "mimetype": "text/x-python",
   "name": "python",
   "nbconvert_exporter": "python",
   "pygments_lexer": "ipython3",
   "version": "3.7.5"
  },
  "toc": {
   "base_numbering": 1,
   "nav_menu": {},
   "number_sections": true,
   "sideBar": true,
   "skip_h1_title": false,
   "title_cell": "Table of Contents",
   "title_sidebar": "Contents",
   "toc_cell": false,
   "toc_position": {},
   "toc_section_display": true,
   "toc_window_display": false
  }
 },
 "nbformat": 4,
 "nbformat_minor": 2
}
